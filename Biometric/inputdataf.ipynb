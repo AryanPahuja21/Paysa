{
 "cells": [
  {
   "cell_type": "code",
   "execution_count": 1,
   "metadata": {},
   "outputs": [
    {
     "name": "stdout",
     "output_type": "stream",
     "text": [
      "1\n",
      "2\n",
      "3\n",
      "4\n",
      "5\n",
      "6\n",
      "7\n",
      "8\n",
      "9\n",
      "10\n",
      "11\n",
      "12\n",
      "13\n",
      "14\n",
      "15\n",
      "16\n",
      "(16, 30000)\n",
      "data saveď successfully atC:\\Users\\aditya\\Documents\\CB  Machine Learning Master Course\\facerec\\aryan.npy\n"
     ]
    }
   ],
   "source": [
    "import cv2\n",
    "import numpy as np\n",
    "cap=cv2.VideoCapture(0)\n",
    "skip=0\n",
    "facedata=[]\n",
    "path=\"C:\\\\Users\\\\aditya\\\\Documents\\\\CB  Machine Learning Master Course\\\\facerec\\\\\"\n",
    "face_cascade=cv2.CascadeClassifier(\"C:\\\\Users\\\\aditya\\\\Documents\\\\CB  Machine Learning Master Course\\\\machine-learning-online-2018-master\\\\6. Project - Face Recognition\\\\Face Recognition Project\\\\haarcascade_frontalface_alt.xml\")\n",
    "file_name=input(\"enter file name:\")\n",
    "while True:\n",
    "    ret,frame=cap.read()\n",
    "    dec=face_cascade.detectMultiScale(frame,1.1,4)\n",
    "    dec=sorted(dec,key=lambda f:f[2]*f[3])\n",
    "    # print(dec)\n",
    "    if ret is False:\n",
    "        continue\n",
    "    for (x,y,w,h) in dec[-1:]:\n",
    "        cv2.rectangle(frame,(x,y),(x+w,y+h),(130,150,0),10)\n",
    "        offset=10\n",
    "        far=frame[y-offset:y+h+offset,x-offset:x+h+offset]\n",
    "        far=cv2.resize(far, (100,100))\n",
    "        skip +=1\n",
    "        if skip%10==0:\n",
    "            facedata.append(far)\n",
    "            print(len(facedata))\n",
    "            \n",
    "        cv2.imshow('face section',far)\n",
    "\n",
    "    cv2.imshow('video',frame)\n",
    "    # cv2.imshow('face section',far)\n",
    "    key=cv2.waitKey(1) & 0xFF\n",
    "    if key==ord('q'):    \n",
    "        break\n",
    "facedata=np.asarray(facedata)\n",
    "facedata= facedata.reshape((facedata.shape[0],-1))\n",
    "print(facedata.shape)\n",
    "np.save(path+file_name+'.npy',facedata)\n",
    "print('data saveď successfully at'+path+file_name+'.npy')\n",
    "cap.release()\n",
    "cv2.destroyAllWindows()"
   ]
  },
  {
   "cell_type": "code",
   "execution_count": null,
   "metadata": {},
   "outputs": [],
   "source": []
  }
 ],
 "metadata": {
  "kernelspec": {
   "display_name": "gan",
   "language": "python",
   "name": "python3"
  },
  "language_info": {
   "codemirror_mode": {
    "name": "ipython",
    "version": 3
   },
   "file_extension": ".py",
   "mimetype": "text/x-python",
   "name": "python",
   "nbconvert_exporter": "python",
   "pygments_lexer": "ipython3",
   "version": "3.9.18"
  }
 },
 "nbformat": 4,
 "nbformat_minor": 2
}
